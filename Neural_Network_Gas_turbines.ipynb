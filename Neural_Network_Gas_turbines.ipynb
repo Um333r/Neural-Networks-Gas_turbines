{
  "cells": [
    {
      "cell_type": "markdown",
      "metadata": {
        "id": "view-in-github",
        "colab_type": "text"
      },
      "source": [
        "<a href=\"https://colab.research.google.com/github/Um333r/Neural-Networks-Gas_turbines/blob/master/Neural_Network_Gas_turbines.ipynb\" target=\"_parent\"><img src=\"https://colab.research.google.com/assets/colab-badge.svg\" alt=\"Open In Colab\"/></a>"
      ]
    },
    {
      "cell_type": "markdown",
      "metadata": {
        "id": "3V7ecQzhO_bn"
      },
      "source": [
        "**Neural Network Assignment**\n",
        "\n",
        "\n",
        "Data Set - Gas_turbines\n",
        "\n",
        "1. Import Necessary libraries"
      ]
    },
    {
      "cell_type": "code",
      "execution_count": 39,
      "metadata": {
        "id": "Nvh6IfcpO-aI"
      },
      "outputs": [],
      "source": [
        "import pandas as pd\n",
        "import numpy as np\n",
        "\n",
        "from matplotlib import pyplot as plt\n",
        "import seaborn as sns\n",
        "\n",
        "import warnings\n",
        "warnings.filterwarnings('ignore')"
      ]
    },
    {
      "cell_type": "markdown",
      "metadata": {
        "id": "IzpwM7qzPMcl"
      },
      "source": [
        "2. Import Data\n"
      ]
    },
    {
      "cell_type": "code",
      "execution_count": 37,
      "metadata": {
        "id": "MUv5Y9ltPIWA",
        "colab": {
          "base_uri": "https://localhost:8080/",
          "height": 423
        },
        "outputId": "62f12a8a-3129-404e-9dca-5b7d769ab542"
      },
      "outputs": [
        {
          "output_type": "execute_result",
          "data": {
            "text/plain": [
              "           AT      AP      AH    AFDP    GTEP     TIT     TAT     TEY     CDP  \\\n",
              "0      6.8594  1007.9  96.799  3.5000  19.663  1059.2  550.00  114.70  10.605   \n",
              "1      6.7850  1008.4  97.118  3.4998  19.728  1059.3  550.00  114.72  10.598   \n",
              "2      6.8977  1008.8  95.939  3.4824  19.779  1059.4  549.87  114.71  10.601   \n",
              "3      7.0569  1009.2  95.249  3.4805  19.792  1059.6  549.99  114.72  10.606   \n",
              "4      7.3978  1009.7  95.150  3.4976  19.765  1059.7  549.98  114.72  10.612   \n",
              "...       ...     ...     ...     ...     ...     ...     ...     ...     ...   \n",
              "15034  9.0301  1005.6  98.460  3.5421  19.164  1049.7  546.21  111.61  10.400   \n",
              "15035  7.8879  1005.9  99.093  3.5059  19.414  1046.3  543.22  111.78  10.433   \n",
              "15036  7.2647  1006.3  99.496  3.4770  19.530  1037.7  537.32  110.19  10.483   \n",
              "15037  7.0060  1006.8  99.008  3.4486  19.377  1043.2  541.24  110.74  10.533   \n",
              "15038  6.9279  1007.2  97.533  3.4275  19.306  1049.9  545.85  111.58  10.583   \n",
              "\n",
              "           CO     NOX  \n",
              "0      3.1547  82.722  \n",
              "1      3.2363  82.776  \n",
              "2      3.2012  82.468  \n",
              "3      3.1923  82.670  \n",
              "4      3.2484  82.311  \n",
              "...       ...     ...  \n",
              "15034  4.5186  79.559  \n",
              "15035  4.8470  79.917  \n",
              "15036  7.9632  90.912  \n",
              "15037  6.2494  93.227  \n",
              "15038  4.9816  92.498  \n",
              "\n",
              "[15039 rows x 11 columns]"
            ],
            "text/html": [
              "\n",
              "  <div id=\"df-8ea29f7b-cb7c-448b-b997-ed68e4e8e4d5\">\n",
              "    <div class=\"colab-df-container\">\n",
              "      <div>\n",
              "<style scoped>\n",
              "    .dataframe tbody tr th:only-of-type {\n",
              "        vertical-align: middle;\n",
              "    }\n",
              "\n",
              "    .dataframe tbody tr th {\n",
              "        vertical-align: top;\n",
              "    }\n",
              "\n",
              "    .dataframe thead th {\n",
              "        text-align: right;\n",
              "    }\n",
              "</style>\n",
              "<table border=\"1\" class=\"dataframe\">\n",
              "  <thead>\n",
              "    <tr style=\"text-align: right;\">\n",
              "      <th></th>\n",
              "      <th>AT</th>\n",
              "      <th>AP</th>\n",
              "      <th>AH</th>\n",
              "      <th>AFDP</th>\n",
              "      <th>GTEP</th>\n",
              "      <th>TIT</th>\n",
              "      <th>TAT</th>\n",
              "      <th>TEY</th>\n",
              "      <th>CDP</th>\n",
              "      <th>CO</th>\n",
              "      <th>NOX</th>\n",
              "    </tr>\n",
              "  </thead>\n",
              "  <tbody>\n",
              "    <tr>\n",
              "      <th>0</th>\n",
              "      <td>6.8594</td>\n",
              "      <td>1007.9</td>\n",
              "      <td>96.799</td>\n",
              "      <td>3.5000</td>\n",
              "      <td>19.663</td>\n",
              "      <td>1059.2</td>\n",
              "      <td>550.00</td>\n",
              "      <td>114.70</td>\n",
              "      <td>10.605</td>\n",
              "      <td>3.1547</td>\n",
              "      <td>82.722</td>\n",
              "    </tr>\n",
              "    <tr>\n",
              "      <th>1</th>\n",
              "      <td>6.7850</td>\n",
              "      <td>1008.4</td>\n",
              "      <td>97.118</td>\n",
              "      <td>3.4998</td>\n",
              "      <td>19.728</td>\n",
              "      <td>1059.3</td>\n",
              "      <td>550.00</td>\n",
              "      <td>114.72</td>\n",
              "      <td>10.598</td>\n",
              "      <td>3.2363</td>\n",
              "      <td>82.776</td>\n",
              "    </tr>\n",
              "    <tr>\n",
              "      <th>2</th>\n",
              "      <td>6.8977</td>\n",
              "      <td>1008.8</td>\n",
              "      <td>95.939</td>\n",
              "      <td>3.4824</td>\n",
              "      <td>19.779</td>\n",
              "      <td>1059.4</td>\n",
              "      <td>549.87</td>\n",
              "      <td>114.71</td>\n",
              "      <td>10.601</td>\n",
              "      <td>3.2012</td>\n",
              "      <td>82.468</td>\n",
              "    </tr>\n",
              "    <tr>\n",
              "      <th>3</th>\n",
              "      <td>7.0569</td>\n",
              "      <td>1009.2</td>\n",
              "      <td>95.249</td>\n",
              "      <td>3.4805</td>\n",
              "      <td>19.792</td>\n",
              "      <td>1059.6</td>\n",
              "      <td>549.99</td>\n",
              "      <td>114.72</td>\n",
              "      <td>10.606</td>\n",
              "      <td>3.1923</td>\n",
              "      <td>82.670</td>\n",
              "    </tr>\n",
              "    <tr>\n",
              "      <th>4</th>\n",
              "      <td>7.3978</td>\n",
              "      <td>1009.7</td>\n",
              "      <td>95.150</td>\n",
              "      <td>3.4976</td>\n",
              "      <td>19.765</td>\n",
              "      <td>1059.7</td>\n",
              "      <td>549.98</td>\n",
              "      <td>114.72</td>\n",
              "      <td>10.612</td>\n",
              "      <td>3.2484</td>\n",
              "      <td>82.311</td>\n",
              "    </tr>\n",
              "    <tr>\n",
              "      <th>...</th>\n",
              "      <td>...</td>\n",
              "      <td>...</td>\n",
              "      <td>...</td>\n",
              "      <td>...</td>\n",
              "      <td>...</td>\n",
              "      <td>...</td>\n",
              "      <td>...</td>\n",
              "      <td>...</td>\n",
              "      <td>...</td>\n",
              "      <td>...</td>\n",
              "      <td>...</td>\n",
              "    </tr>\n",
              "    <tr>\n",
              "      <th>15034</th>\n",
              "      <td>9.0301</td>\n",
              "      <td>1005.6</td>\n",
              "      <td>98.460</td>\n",
              "      <td>3.5421</td>\n",
              "      <td>19.164</td>\n",
              "      <td>1049.7</td>\n",
              "      <td>546.21</td>\n",
              "      <td>111.61</td>\n",
              "      <td>10.400</td>\n",
              "      <td>4.5186</td>\n",
              "      <td>79.559</td>\n",
              "    </tr>\n",
              "    <tr>\n",
              "      <th>15035</th>\n",
              "      <td>7.8879</td>\n",
              "      <td>1005.9</td>\n",
              "      <td>99.093</td>\n",
              "      <td>3.5059</td>\n",
              "      <td>19.414</td>\n",
              "      <td>1046.3</td>\n",
              "      <td>543.22</td>\n",
              "      <td>111.78</td>\n",
              "      <td>10.433</td>\n",
              "      <td>4.8470</td>\n",
              "      <td>79.917</td>\n",
              "    </tr>\n",
              "    <tr>\n",
              "      <th>15036</th>\n",
              "      <td>7.2647</td>\n",
              "      <td>1006.3</td>\n",
              "      <td>99.496</td>\n",
              "      <td>3.4770</td>\n",
              "      <td>19.530</td>\n",
              "      <td>1037.7</td>\n",
              "      <td>537.32</td>\n",
              "      <td>110.19</td>\n",
              "      <td>10.483</td>\n",
              "      <td>7.9632</td>\n",
              "      <td>90.912</td>\n",
              "    </tr>\n",
              "    <tr>\n",
              "      <th>15037</th>\n",
              "      <td>7.0060</td>\n",
              "      <td>1006.8</td>\n",
              "      <td>99.008</td>\n",
              "      <td>3.4486</td>\n",
              "      <td>19.377</td>\n",
              "      <td>1043.2</td>\n",
              "      <td>541.24</td>\n",
              "      <td>110.74</td>\n",
              "      <td>10.533</td>\n",
              "      <td>6.2494</td>\n",
              "      <td>93.227</td>\n",
              "    </tr>\n",
              "    <tr>\n",
              "      <th>15038</th>\n",
              "      <td>6.9279</td>\n",
              "      <td>1007.2</td>\n",
              "      <td>97.533</td>\n",
              "      <td>3.4275</td>\n",
              "      <td>19.306</td>\n",
              "      <td>1049.9</td>\n",
              "      <td>545.85</td>\n",
              "      <td>111.58</td>\n",
              "      <td>10.583</td>\n",
              "      <td>4.9816</td>\n",
              "      <td>92.498</td>\n",
              "    </tr>\n",
              "  </tbody>\n",
              "</table>\n",
              "<p>15039 rows × 11 columns</p>\n",
              "</div>\n",
              "      <button class=\"colab-df-convert\" onclick=\"convertToInteractive('df-8ea29f7b-cb7c-448b-b997-ed68e4e8e4d5')\"\n",
              "              title=\"Convert this dataframe to an interactive table.\"\n",
              "              style=\"display:none;\">\n",
              "        \n",
              "  <svg xmlns=\"http://www.w3.org/2000/svg\" height=\"24px\"viewBox=\"0 0 24 24\"\n",
              "       width=\"24px\">\n",
              "    <path d=\"M0 0h24v24H0V0z\" fill=\"none\"/>\n",
              "    <path d=\"M18.56 5.44l.94 2.06.94-2.06 2.06-.94-2.06-.94-.94-2.06-.94 2.06-2.06.94zm-11 1L8.5 8.5l.94-2.06 2.06-.94-2.06-.94L8.5 2.5l-.94 2.06-2.06.94zm10 10l.94 2.06.94-2.06 2.06-.94-2.06-.94-.94-2.06-.94 2.06-2.06.94z\"/><path d=\"M17.41 7.96l-1.37-1.37c-.4-.4-.92-.59-1.43-.59-.52 0-1.04.2-1.43.59L10.3 9.45l-7.72 7.72c-.78.78-.78 2.05 0 2.83L4 21.41c.39.39.9.59 1.41.59.51 0 1.02-.2 1.41-.59l7.78-7.78 2.81-2.81c.8-.78.8-2.07 0-2.86zM5.41 20L4 18.59l7.72-7.72 1.47 1.35L5.41 20z\"/>\n",
              "  </svg>\n",
              "      </button>\n",
              "      \n",
              "  <style>\n",
              "    .colab-df-container {\n",
              "      display:flex;\n",
              "      flex-wrap:wrap;\n",
              "      gap: 12px;\n",
              "    }\n",
              "\n",
              "    .colab-df-convert {\n",
              "      background-color: #E8F0FE;\n",
              "      border: none;\n",
              "      border-radius: 50%;\n",
              "      cursor: pointer;\n",
              "      display: none;\n",
              "      fill: #1967D2;\n",
              "      height: 32px;\n",
              "      padding: 0 0 0 0;\n",
              "      width: 32px;\n",
              "    }\n",
              "\n",
              "    .colab-df-convert:hover {\n",
              "      background-color: #E2EBFA;\n",
              "      box-shadow: 0px 1px 2px rgba(60, 64, 67, 0.3), 0px 1px 3px 1px rgba(60, 64, 67, 0.15);\n",
              "      fill: #174EA6;\n",
              "    }\n",
              "\n",
              "    [theme=dark] .colab-df-convert {\n",
              "      background-color: #3B4455;\n",
              "      fill: #D2E3FC;\n",
              "    }\n",
              "\n",
              "    [theme=dark] .colab-df-convert:hover {\n",
              "      background-color: #434B5C;\n",
              "      box-shadow: 0px 1px 3px 1px rgba(0, 0, 0, 0.15);\n",
              "      filter: drop-shadow(0px 1px 2px rgba(0, 0, 0, 0.3));\n",
              "      fill: #FFFFFF;\n",
              "    }\n",
              "  </style>\n",
              "\n",
              "      <script>\n",
              "        const buttonEl =\n",
              "          document.querySelector('#df-8ea29f7b-cb7c-448b-b997-ed68e4e8e4d5 button.colab-df-convert');\n",
              "        buttonEl.style.display =\n",
              "          google.colab.kernel.accessAllowed ? 'block' : 'none';\n",
              "\n",
              "        async function convertToInteractive(key) {\n",
              "          const element = document.querySelector('#df-8ea29f7b-cb7c-448b-b997-ed68e4e8e4d5');\n",
              "          const dataTable =\n",
              "            await google.colab.kernel.invokeFunction('convertToInteractive',\n",
              "                                                     [key], {});\n",
              "          if (!dataTable) return;\n",
              "\n",
              "          const docLinkHtml = 'Like what you see? Visit the ' +\n",
              "            '<a target=\"_blank\" href=https://colab.research.google.com/notebooks/data_table.ipynb>data table notebook</a>'\n",
              "            + ' to learn more about interactive tables.';\n",
              "          element.innerHTML = '';\n",
              "          dataTable['output_type'] = 'display_data';\n",
              "          await google.colab.output.renderOutput(dataTable, element);\n",
              "          const docLink = document.createElement('div');\n",
              "          docLink.innerHTML = docLinkHtml;\n",
              "          element.appendChild(docLink);\n",
              "        }\n",
              "      </script>\n",
              "    </div>\n",
              "  </div>\n",
              "  "
            ]
          },
          "metadata": {},
          "execution_count": 37
        }
      ],
      "source": [
        "turbines_data = pd.read_csv('/content/gas_turbines.csv')\n",
        "turbines_data"
      ]
    },
    {
      "cell_type": "markdown",
      "metadata": {
        "id": "cm40-l4WPRfc"
      },
      "source": [
        "3. Data Understanding\n",
        "\n",
        "3.1 Initial Analysis :"
      ]
    },
    {
      "cell_type": "code",
      "execution_count": 40,
      "metadata": {
        "id": "y-q79b9BPQdB",
        "colab": {
          "base_uri": "https://localhost:8080/",
          "height": 206
        },
        "outputId": "3c4b7674-768f-4af0-fa98-428f33d93f00"
      },
      "outputs": [
        {
          "output_type": "execute_result",
          "data": {
            "text/plain": [
              "       AT      AP      AH    AFDP    GTEP     TIT     TAT     TEY     CDP  \\\n",
              "0  6.8594  1007.9  96.799  3.5000  19.663  1059.2  550.00  114.70  10.605   \n",
              "1  6.7850  1008.4  97.118  3.4998  19.728  1059.3  550.00  114.72  10.598   \n",
              "2  6.8977  1008.8  95.939  3.4824  19.779  1059.4  549.87  114.71  10.601   \n",
              "3  7.0569  1009.2  95.249  3.4805  19.792  1059.6  549.99  114.72  10.606   \n",
              "4  7.3978  1009.7  95.150  3.4976  19.765  1059.7  549.98  114.72  10.612   \n",
              "\n",
              "       CO     NOX  \n",
              "0  3.1547  82.722  \n",
              "1  3.2363  82.776  \n",
              "2  3.2012  82.468  \n",
              "3  3.1923  82.670  \n",
              "4  3.2484  82.311  "
            ],
            "text/html": [
              "\n",
              "  <div id=\"df-7a9d896b-ddf3-4b68-a85b-c1c9ffd8708d\">\n",
              "    <div class=\"colab-df-container\">\n",
              "      <div>\n",
              "<style scoped>\n",
              "    .dataframe tbody tr th:only-of-type {\n",
              "        vertical-align: middle;\n",
              "    }\n",
              "\n",
              "    .dataframe tbody tr th {\n",
              "        vertical-align: top;\n",
              "    }\n",
              "\n",
              "    .dataframe thead th {\n",
              "        text-align: right;\n",
              "    }\n",
              "</style>\n",
              "<table border=\"1\" class=\"dataframe\">\n",
              "  <thead>\n",
              "    <tr style=\"text-align: right;\">\n",
              "      <th></th>\n",
              "      <th>AT</th>\n",
              "      <th>AP</th>\n",
              "      <th>AH</th>\n",
              "      <th>AFDP</th>\n",
              "      <th>GTEP</th>\n",
              "      <th>TIT</th>\n",
              "      <th>TAT</th>\n",
              "      <th>TEY</th>\n",
              "      <th>CDP</th>\n",
              "      <th>CO</th>\n",
              "      <th>NOX</th>\n",
              "    </tr>\n",
              "  </thead>\n",
              "  <tbody>\n",
              "    <tr>\n",
              "      <th>0</th>\n",
              "      <td>6.8594</td>\n",
              "      <td>1007.9</td>\n",
              "      <td>96.799</td>\n",
              "      <td>3.5000</td>\n",
              "      <td>19.663</td>\n",
              "      <td>1059.2</td>\n",
              "      <td>550.00</td>\n",
              "      <td>114.70</td>\n",
              "      <td>10.605</td>\n",
              "      <td>3.1547</td>\n",
              "      <td>82.722</td>\n",
              "    </tr>\n",
              "    <tr>\n",
              "      <th>1</th>\n",
              "      <td>6.7850</td>\n",
              "      <td>1008.4</td>\n",
              "      <td>97.118</td>\n",
              "      <td>3.4998</td>\n",
              "      <td>19.728</td>\n",
              "      <td>1059.3</td>\n",
              "      <td>550.00</td>\n",
              "      <td>114.72</td>\n",
              "      <td>10.598</td>\n",
              "      <td>3.2363</td>\n",
              "      <td>82.776</td>\n",
              "    </tr>\n",
              "    <tr>\n",
              "      <th>2</th>\n",
              "      <td>6.8977</td>\n",
              "      <td>1008.8</td>\n",
              "      <td>95.939</td>\n",
              "      <td>3.4824</td>\n",
              "      <td>19.779</td>\n",
              "      <td>1059.4</td>\n",
              "      <td>549.87</td>\n",
              "      <td>114.71</td>\n",
              "      <td>10.601</td>\n",
              "      <td>3.2012</td>\n",
              "      <td>82.468</td>\n",
              "    </tr>\n",
              "    <tr>\n",
              "      <th>3</th>\n",
              "      <td>7.0569</td>\n",
              "      <td>1009.2</td>\n",
              "      <td>95.249</td>\n",
              "      <td>3.4805</td>\n",
              "      <td>19.792</td>\n",
              "      <td>1059.6</td>\n",
              "      <td>549.99</td>\n",
              "      <td>114.72</td>\n",
              "      <td>10.606</td>\n",
              "      <td>3.1923</td>\n",
              "      <td>82.670</td>\n",
              "    </tr>\n",
              "    <tr>\n",
              "      <th>4</th>\n",
              "      <td>7.3978</td>\n",
              "      <td>1009.7</td>\n",
              "      <td>95.150</td>\n",
              "      <td>3.4976</td>\n",
              "      <td>19.765</td>\n",
              "      <td>1059.7</td>\n",
              "      <td>549.98</td>\n",
              "      <td>114.72</td>\n",
              "      <td>10.612</td>\n",
              "      <td>3.2484</td>\n",
              "      <td>82.311</td>\n",
              "    </tr>\n",
              "  </tbody>\n",
              "</table>\n",
              "</div>\n",
              "      <button class=\"colab-df-convert\" onclick=\"convertToInteractive('df-7a9d896b-ddf3-4b68-a85b-c1c9ffd8708d')\"\n",
              "              title=\"Convert this dataframe to an interactive table.\"\n",
              "              style=\"display:none;\">\n",
              "        \n",
              "  <svg xmlns=\"http://www.w3.org/2000/svg\" height=\"24px\"viewBox=\"0 0 24 24\"\n",
              "       width=\"24px\">\n",
              "    <path d=\"M0 0h24v24H0V0z\" fill=\"none\"/>\n",
              "    <path d=\"M18.56 5.44l.94 2.06.94-2.06 2.06-.94-2.06-.94-.94-2.06-.94 2.06-2.06.94zm-11 1L8.5 8.5l.94-2.06 2.06-.94-2.06-.94L8.5 2.5l-.94 2.06-2.06.94zm10 10l.94 2.06.94-2.06 2.06-.94-2.06-.94-.94-2.06-.94 2.06-2.06.94z\"/><path d=\"M17.41 7.96l-1.37-1.37c-.4-.4-.92-.59-1.43-.59-.52 0-1.04.2-1.43.59L10.3 9.45l-7.72 7.72c-.78.78-.78 2.05 0 2.83L4 21.41c.39.39.9.59 1.41.59.51 0 1.02-.2 1.41-.59l7.78-7.78 2.81-2.81c.8-.78.8-2.07 0-2.86zM5.41 20L4 18.59l7.72-7.72 1.47 1.35L5.41 20z\"/>\n",
              "  </svg>\n",
              "      </button>\n",
              "      \n",
              "  <style>\n",
              "    .colab-df-container {\n",
              "      display:flex;\n",
              "      flex-wrap:wrap;\n",
              "      gap: 12px;\n",
              "    }\n",
              "\n",
              "    .colab-df-convert {\n",
              "      background-color: #E8F0FE;\n",
              "      border: none;\n",
              "      border-radius: 50%;\n",
              "      cursor: pointer;\n",
              "      display: none;\n",
              "      fill: #1967D2;\n",
              "      height: 32px;\n",
              "      padding: 0 0 0 0;\n",
              "      width: 32px;\n",
              "    }\n",
              "\n",
              "    .colab-df-convert:hover {\n",
              "      background-color: #E2EBFA;\n",
              "      box-shadow: 0px 1px 2px rgba(60, 64, 67, 0.3), 0px 1px 3px 1px rgba(60, 64, 67, 0.15);\n",
              "      fill: #174EA6;\n",
              "    }\n",
              "\n",
              "    [theme=dark] .colab-df-convert {\n",
              "      background-color: #3B4455;\n",
              "      fill: #D2E3FC;\n",
              "    }\n",
              "\n",
              "    [theme=dark] .colab-df-convert:hover {\n",
              "      background-color: #434B5C;\n",
              "      box-shadow: 0px 1px 3px 1px rgba(0, 0, 0, 0.15);\n",
              "      filter: drop-shadow(0px 1px 2px rgba(0, 0, 0, 0.3));\n",
              "      fill: #FFFFFF;\n",
              "    }\n",
              "  </style>\n",
              "\n",
              "      <script>\n",
              "        const buttonEl =\n",
              "          document.querySelector('#df-7a9d896b-ddf3-4b68-a85b-c1c9ffd8708d button.colab-df-convert');\n",
              "        buttonEl.style.display =\n",
              "          google.colab.kernel.accessAllowed ? 'block' : 'none';\n",
              "\n",
              "        async function convertToInteractive(key) {\n",
              "          const element = document.querySelector('#df-7a9d896b-ddf3-4b68-a85b-c1c9ffd8708d');\n",
              "          const dataTable =\n",
              "            await google.colab.kernel.invokeFunction('convertToInteractive',\n",
              "                                                     [key], {});\n",
              "          if (!dataTable) return;\n",
              "\n",
              "          const docLinkHtml = 'Like what you see? Visit the ' +\n",
              "            '<a target=\"_blank\" href=https://colab.research.google.com/notebooks/data_table.ipynb>data table notebook</a>'\n",
              "            + ' to learn more about interactive tables.';\n",
              "          element.innerHTML = '';\n",
              "          dataTable['output_type'] = 'display_data';\n",
              "          await google.colab.output.renderOutput(dataTable, element);\n",
              "          const docLink = document.createElement('div');\n",
              "          docLink.innerHTML = docLinkHtml;\n",
              "          element.appendChild(docLink);\n",
              "        }\n",
              "      </script>\n",
              "    </div>\n",
              "  </div>\n",
              "  "
            ]
          },
          "metadata": {},
          "execution_count": 40
        }
      ],
      "source": [
        "turbines_data.head()\n"
      ]
    },
    {
      "cell_type": "code",
      "execution_count": 41,
      "metadata": {
        "id": "tnWXz8yrPVf1",
        "colab": {
          "base_uri": "https://localhost:8080/"
        },
        "outputId": "8b33184b-4939-42da-9ceb-fc6020c59ee7"
      },
      "outputs": [
        {
          "output_type": "execute_result",
          "data": {
            "text/plain": [
              "(15039, 11)"
            ]
          },
          "metadata": {},
          "execution_count": 41
        }
      ],
      "source": [
        "turbines_data.shape\n"
      ]
    },
    {
      "cell_type": "code",
      "execution_count": 42,
      "metadata": {
        "id": "Pj4uHBwBPXgI",
        "colab": {
          "base_uri": "https://localhost:8080/"
        },
        "outputId": "81339029-25cd-4c86-e555-8e259427f855"
      },
      "outputs": [
        {
          "output_type": "stream",
          "name": "stdout",
          "text": [
            "<class 'pandas.core.frame.DataFrame'>\n",
            "RangeIndex: 15039 entries, 0 to 15038\n",
            "Data columns (total 11 columns):\n",
            " #   Column  Non-Null Count  Dtype  \n",
            "---  ------  --------------  -----  \n",
            " 0   AT      15039 non-null  float64\n",
            " 1   AP      15039 non-null  float64\n",
            " 2   AH      15039 non-null  float64\n",
            " 3   AFDP    15039 non-null  float64\n",
            " 4   GTEP    15039 non-null  float64\n",
            " 5   TIT     15039 non-null  float64\n",
            " 6   TAT     15039 non-null  float64\n",
            " 7   TEY     15039 non-null  float64\n",
            " 8   CDP     15039 non-null  float64\n",
            " 9   CO      15039 non-null  float64\n",
            " 10  NOX     15039 non-null  float64\n",
            "dtypes: float64(11)\n",
            "memory usage: 1.3 MB\n"
          ]
        }
      ],
      "source": [
        "turbines_data.info()\n"
      ]
    },
    {
      "cell_type": "code",
      "execution_count": 43,
      "metadata": {
        "id": "Asl6SLd1PY8O",
        "colab": {
          "base_uri": "https://localhost:8080/"
        },
        "outputId": "12f2a7e3-8072-425c-8e55-1d553ab547e5"
      },
      "outputs": [
        {
          "output_type": "execute_result",
          "data": {
            "text/plain": [
              "AT      0\n",
              "AP      0\n",
              "AH      0\n",
              "AFDP    0\n",
              "GTEP    0\n",
              "TIT     0\n",
              "TAT     0\n",
              "TEY     0\n",
              "CDP     0\n",
              "CO      0\n",
              "NOX     0\n",
              "dtype: int64"
            ]
          },
          "metadata": {},
          "execution_count": 43
        }
      ],
      "source": [
        "turbines_data.isna().sum()\n"
      ]
    },
    {
      "cell_type": "code",
      "execution_count": 44,
      "metadata": {
        "id": "1A6LONkePa0d",
        "colab": {
          "base_uri": "https://localhost:8080/",
          "height": 364
        },
        "outputId": "d30e5e7b-1cb1-4107-f209-e828c7bea17c"
      },
      "outputs": [
        {
          "output_type": "execute_result",
          "data": {
            "text/plain": [
              "                 AT           AP            AH          AFDP          GTEP  \\\n",
              "count  15039.000000  15039.00000  15039.000000  15039.000000  15039.000000   \n",
              "mean      17.764381   1013.19924     79.124174      4.200294     25.419061   \n",
              "std        7.574323      6.41076     13.793439      0.760197      4.173916   \n",
              "min        0.522300    985.85000     30.344000      2.087400     17.878000   \n",
              "25%       11.408000   1008.90000     69.750000      3.723900     23.294000   \n",
              "50%       18.186000   1012.80000     82.266000      4.186200     25.082000   \n",
              "75%       23.862500   1016.90000     90.043500      4.550900     27.184000   \n",
              "max       34.929000   1034.20000    100.200000      7.610600     37.402000   \n",
              "\n",
              "                TIT           TAT           TEY           CDP            CO  \\\n",
              "count  15039.000000  15039.000000  15039.000000  15039.000000  15039.000000   \n",
              "mean    1083.798770    545.396183    134.188464     12.102353      1.972499   \n",
              "std       16.527806      7.866803     15.829717      1.103196      2.222206   \n",
              "min     1000.800000    512.450000    100.170000      9.904400      0.000388   \n",
              "25%     1079.600000    542.170000    127.985000     11.622000      0.858055   \n",
              "50%     1088.700000    549.890000    133.780000     12.025000      1.390200   \n",
              "75%     1096.000000    550.060000    140.895000     12.578000      2.160400   \n",
              "max     1100.800000    550.610000    174.610000     15.081000     44.103000   \n",
              "\n",
              "                NOX  \n",
              "count  15039.000000  \n",
              "mean      68.190934  \n",
              "std       10.470586  \n",
              "min       27.765000  \n",
              "25%       61.303500  \n",
              "50%       66.601000  \n",
              "75%       73.935500  \n",
              "max      119.890000  "
            ],
            "text/html": [
              "\n",
              "  <div id=\"df-f9e05211-1197-47f9-9eb5-945bc75debbb\">\n",
              "    <div class=\"colab-df-container\">\n",
              "      <div>\n",
              "<style scoped>\n",
              "    .dataframe tbody tr th:only-of-type {\n",
              "        vertical-align: middle;\n",
              "    }\n",
              "\n",
              "    .dataframe tbody tr th {\n",
              "        vertical-align: top;\n",
              "    }\n",
              "\n",
              "    .dataframe thead th {\n",
              "        text-align: right;\n",
              "    }\n",
              "</style>\n",
              "<table border=\"1\" class=\"dataframe\">\n",
              "  <thead>\n",
              "    <tr style=\"text-align: right;\">\n",
              "      <th></th>\n",
              "      <th>AT</th>\n",
              "      <th>AP</th>\n",
              "      <th>AH</th>\n",
              "      <th>AFDP</th>\n",
              "      <th>GTEP</th>\n",
              "      <th>TIT</th>\n",
              "      <th>TAT</th>\n",
              "      <th>TEY</th>\n",
              "      <th>CDP</th>\n",
              "      <th>CO</th>\n",
              "      <th>NOX</th>\n",
              "    </tr>\n",
              "  </thead>\n",
              "  <tbody>\n",
              "    <tr>\n",
              "      <th>count</th>\n",
              "      <td>15039.000000</td>\n",
              "      <td>15039.00000</td>\n",
              "      <td>15039.000000</td>\n",
              "      <td>15039.000000</td>\n",
              "      <td>15039.000000</td>\n",
              "      <td>15039.000000</td>\n",
              "      <td>15039.000000</td>\n",
              "      <td>15039.000000</td>\n",
              "      <td>15039.000000</td>\n",
              "      <td>15039.000000</td>\n",
              "      <td>15039.000000</td>\n",
              "    </tr>\n",
              "    <tr>\n",
              "      <th>mean</th>\n",
              "      <td>17.764381</td>\n",
              "      <td>1013.19924</td>\n",
              "      <td>79.124174</td>\n",
              "      <td>4.200294</td>\n",
              "      <td>25.419061</td>\n",
              "      <td>1083.798770</td>\n",
              "      <td>545.396183</td>\n",
              "      <td>134.188464</td>\n",
              "      <td>12.102353</td>\n",
              "      <td>1.972499</td>\n",
              "      <td>68.190934</td>\n",
              "    </tr>\n",
              "    <tr>\n",
              "      <th>std</th>\n",
              "      <td>7.574323</td>\n",
              "      <td>6.41076</td>\n",
              "      <td>13.793439</td>\n",
              "      <td>0.760197</td>\n",
              "      <td>4.173916</td>\n",
              "      <td>16.527806</td>\n",
              "      <td>7.866803</td>\n",
              "      <td>15.829717</td>\n",
              "      <td>1.103196</td>\n",
              "      <td>2.222206</td>\n",
              "      <td>10.470586</td>\n",
              "    </tr>\n",
              "    <tr>\n",
              "      <th>min</th>\n",
              "      <td>0.522300</td>\n",
              "      <td>985.85000</td>\n",
              "      <td>30.344000</td>\n",
              "      <td>2.087400</td>\n",
              "      <td>17.878000</td>\n",
              "      <td>1000.800000</td>\n",
              "      <td>512.450000</td>\n",
              "      <td>100.170000</td>\n",
              "      <td>9.904400</td>\n",
              "      <td>0.000388</td>\n",
              "      <td>27.765000</td>\n",
              "    </tr>\n",
              "    <tr>\n",
              "      <th>25%</th>\n",
              "      <td>11.408000</td>\n",
              "      <td>1008.90000</td>\n",
              "      <td>69.750000</td>\n",
              "      <td>3.723900</td>\n",
              "      <td>23.294000</td>\n",
              "      <td>1079.600000</td>\n",
              "      <td>542.170000</td>\n",
              "      <td>127.985000</td>\n",
              "      <td>11.622000</td>\n",
              "      <td>0.858055</td>\n",
              "      <td>61.303500</td>\n",
              "    </tr>\n",
              "    <tr>\n",
              "      <th>50%</th>\n",
              "      <td>18.186000</td>\n",
              "      <td>1012.80000</td>\n",
              "      <td>82.266000</td>\n",
              "      <td>4.186200</td>\n",
              "      <td>25.082000</td>\n",
              "      <td>1088.700000</td>\n",
              "      <td>549.890000</td>\n",
              "      <td>133.780000</td>\n",
              "      <td>12.025000</td>\n",
              "      <td>1.390200</td>\n",
              "      <td>66.601000</td>\n",
              "    </tr>\n",
              "    <tr>\n",
              "      <th>75%</th>\n",
              "      <td>23.862500</td>\n",
              "      <td>1016.90000</td>\n",
              "      <td>90.043500</td>\n",
              "      <td>4.550900</td>\n",
              "      <td>27.184000</td>\n",
              "      <td>1096.000000</td>\n",
              "      <td>550.060000</td>\n",
              "      <td>140.895000</td>\n",
              "      <td>12.578000</td>\n",
              "      <td>2.160400</td>\n",
              "      <td>73.935500</td>\n",
              "    </tr>\n",
              "    <tr>\n",
              "      <th>max</th>\n",
              "      <td>34.929000</td>\n",
              "      <td>1034.20000</td>\n",
              "      <td>100.200000</td>\n",
              "      <td>7.610600</td>\n",
              "      <td>37.402000</td>\n",
              "      <td>1100.800000</td>\n",
              "      <td>550.610000</td>\n",
              "      <td>174.610000</td>\n",
              "      <td>15.081000</td>\n",
              "      <td>44.103000</td>\n",
              "      <td>119.890000</td>\n",
              "    </tr>\n",
              "  </tbody>\n",
              "</table>\n",
              "</div>\n",
              "      <button class=\"colab-df-convert\" onclick=\"convertToInteractive('df-f9e05211-1197-47f9-9eb5-945bc75debbb')\"\n",
              "              title=\"Convert this dataframe to an interactive table.\"\n",
              "              style=\"display:none;\">\n",
              "        \n",
              "  <svg xmlns=\"http://www.w3.org/2000/svg\" height=\"24px\"viewBox=\"0 0 24 24\"\n",
              "       width=\"24px\">\n",
              "    <path d=\"M0 0h24v24H0V0z\" fill=\"none\"/>\n",
              "    <path d=\"M18.56 5.44l.94 2.06.94-2.06 2.06-.94-2.06-.94-.94-2.06-.94 2.06-2.06.94zm-11 1L8.5 8.5l.94-2.06 2.06-.94-2.06-.94L8.5 2.5l-.94 2.06-2.06.94zm10 10l.94 2.06.94-2.06 2.06-.94-2.06-.94-.94-2.06-.94 2.06-2.06.94z\"/><path d=\"M17.41 7.96l-1.37-1.37c-.4-.4-.92-.59-1.43-.59-.52 0-1.04.2-1.43.59L10.3 9.45l-7.72 7.72c-.78.78-.78 2.05 0 2.83L4 21.41c.39.39.9.59 1.41.59.51 0 1.02-.2 1.41-.59l7.78-7.78 2.81-2.81c.8-.78.8-2.07 0-2.86zM5.41 20L4 18.59l7.72-7.72 1.47 1.35L5.41 20z\"/>\n",
              "  </svg>\n",
              "      </button>\n",
              "      \n",
              "  <style>\n",
              "    .colab-df-container {\n",
              "      display:flex;\n",
              "      flex-wrap:wrap;\n",
              "      gap: 12px;\n",
              "    }\n",
              "\n",
              "    .colab-df-convert {\n",
              "      background-color: #E8F0FE;\n",
              "      border: none;\n",
              "      border-radius: 50%;\n",
              "      cursor: pointer;\n",
              "      display: none;\n",
              "      fill: #1967D2;\n",
              "      height: 32px;\n",
              "      padding: 0 0 0 0;\n",
              "      width: 32px;\n",
              "    }\n",
              "\n",
              "    .colab-df-convert:hover {\n",
              "      background-color: #E2EBFA;\n",
              "      box-shadow: 0px 1px 2px rgba(60, 64, 67, 0.3), 0px 1px 3px 1px rgba(60, 64, 67, 0.15);\n",
              "      fill: #174EA6;\n",
              "    }\n",
              "\n",
              "    [theme=dark] .colab-df-convert {\n",
              "      background-color: #3B4455;\n",
              "      fill: #D2E3FC;\n",
              "    }\n",
              "\n",
              "    [theme=dark] .colab-df-convert:hover {\n",
              "      background-color: #434B5C;\n",
              "      box-shadow: 0px 1px 3px 1px rgba(0, 0, 0, 0.15);\n",
              "      filter: drop-shadow(0px 1px 2px rgba(0, 0, 0, 0.3));\n",
              "      fill: #FFFFFF;\n",
              "    }\n",
              "  </style>\n",
              "\n",
              "      <script>\n",
              "        const buttonEl =\n",
              "          document.querySelector('#df-f9e05211-1197-47f9-9eb5-945bc75debbb button.colab-df-convert');\n",
              "        buttonEl.style.display =\n",
              "          google.colab.kernel.accessAllowed ? 'block' : 'none';\n",
              "\n",
              "        async function convertToInteractive(key) {\n",
              "          const element = document.querySelector('#df-f9e05211-1197-47f9-9eb5-945bc75debbb');\n",
              "          const dataTable =\n",
              "            await google.colab.kernel.invokeFunction('convertToInteractive',\n",
              "                                                     [key], {});\n",
              "          if (!dataTable) return;\n",
              "\n",
              "          const docLinkHtml = 'Like what you see? Visit the ' +\n",
              "            '<a target=\"_blank\" href=https://colab.research.google.com/notebooks/data_table.ipynb>data table notebook</a>'\n",
              "            + ' to learn more about interactive tables.';\n",
              "          element.innerHTML = '';\n",
              "          dataTable['output_type'] = 'display_data';\n",
              "          await google.colab.output.renderOutput(dataTable, element);\n",
              "          const docLink = document.createElement('div');\n",
              "          docLink.innerHTML = docLinkHtml;\n",
              "          element.appendChild(docLink);\n",
              "        }\n",
              "      </script>\n",
              "    </div>\n",
              "  </div>\n",
              "  "
            ]
          },
          "metadata": {},
          "execution_count": 44
        }
      ],
      "source": [
        "turbines_data.describe()\n"
      ]
    },
    {
      "cell_type": "code",
      "execution_count": 45,
      "metadata": {
        "id": "pt1SaaGwPcUk",
        "colab": {
          "base_uri": "https://localhost:8080/"
        },
        "outputId": "99413bc1-e71a-4da8-9a18-82bc497dd9ec"
      },
      "outputs": [
        {
          "output_type": "execute_result",
          "data": {
            "text/plain": [
              "AT      float64\n",
              "AP      float64\n",
              "AH      float64\n",
              "AFDP    float64\n",
              "GTEP    float64\n",
              "TIT     float64\n",
              "TAT     float64\n",
              "TEY     float64\n",
              "CDP     float64\n",
              "CO      float64\n",
              "NOX     float64\n",
              "dtype: object"
            ]
          },
          "metadata": {},
          "execution_count": 45
        }
      ],
      "source": [
        "turbines_data.dtypes\n"
      ]
    },
    {
      "cell_type": "markdown",
      "metadata": {
        "id": "z4Rr8MAKPevn"
      },
      "source": [
        "3.2 Correlation Matrix :\n"
      ]
    },
    {
      "cell_type": "code",
      "execution_count": 46,
      "metadata": {
        "id": "40eliY9OPd_9",
        "colab": {
          "base_uri": "https://localhost:8080/",
          "height": 487
        },
        "outputId": "b4f9bc6d-72d7-4026-f11a-19b4559909dd"
      },
      "outputs": [
        {
          "output_type": "display_data",
          "data": {
            "text/plain": [
              "<Figure size 864x576 with 2 Axes>"
            ],
            "image/png": "[encoded data removed]"
          },
          "metadata": {
            "needs_background": "light"
          }
        }
      ],
      "source": [
        "plt.figure(figsize = (12,8))\n",
        "sns.heatmap(turbines_data.corr(),annot = True)\n",
        "plt.show()"
      ]
    },
    {
      "cell_type": "markdown",
      "metadata": {
        "id": "UVvw46JqPi-_"
      },
      "source": [
        "3.3 Visualization using distplot :\n"
      ]
    },
    {
      "cell_type": "code",
      "execution_count": 47,
      "metadata": {
        "id": "vtsEvC-8PhsW",
        "colab": {
          "base_uri": "https://localhost:8080/",
          "height": 1000
        },
        "outputId": "065c4b8b-f7f1-431f-ef79-e5673eee7c27"
      },
      "outputs": [
        {
          "output_type": "display_data",
          "data": {
            "text/plain": [
              "<Figure size 864x1440 with 12 Axes>"
            ],
            "image/png": "[encoded data removed]"
          },
          "metadata": {
            "needs_background": "light"
          }
        }
      ],
      "source": [
        "fig, ax = plt.subplots(6,2, figsize = (12,20))\n",
        "\n",
        "sns.distplot(turbines_data.AT, ax = ax[0,0])\n",
        "sns.distplot(turbines_data.AP, ax = ax[0,1])\n",
        "sns.distplot(turbines_data.AH, ax = ax[1,0])\n",
        "sns.distplot(turbines_data.AFDP, ax = ax[1,1])\n",
        "sns.distplot(turbines_data.GTEP, ax = ax[2,0])\n",
        "sns.distplot(turbines_data.TIT, ax = ax[2,1])\n",
        "sns.distplot(turbines_data.TAT, ax = ax[3,0])\n",
        "sns.distplot(turbines_data.TEY, ax = ax[3,1])\n",
        "sns.distplot(turbines_data.CDP, ax = ax[4,0])\n",
        "sns.distplot(turbines_data.CO, ax = ax[4,1])\n",
        "sns.distplot(turbines_data.NOX, ax = ax[5,0])\n",
        "\n",
        "plt.tight_layout()\n",
        "plt.show()"
      ]
    },
    {
      "cell_type": "markdown",
      "metadata": {
        "id": "vP2VrYrnPnnW"
      },
      "source": [
        "3.4 Checking of the outlier :\n"
      ]
    },
    {
      "cell_type": "code",
      "execution_count": 48,
      "metadata": {
        "id": "0Yc17XIMPmX7",
        "colab": {
          "base_uri": "https://localhost:8080/",
          "height": 1000
        },
        "outputId": "b0dff288-aff9-4caa-876c-801f057db15c"
      },
      "outputs": [
        {
          "output_type": "display_data",
          "data": {
            "text/plain": [
              "<Figure size 864x1440 with 12 Axes>"
            ],
            "image/png": "[encoded data removed]"
          },
          "metadata": {
            "needs_background": "light"
          }
        }
      ],
      "source": [
        "fig, ax = plt.subplots(6,2, figsize = (12,20))\n",
        "\n",
        "sns.boxplot(turbines_data.AT, ax = ax[0,0])\n",
        "sns.boxplot(turbines_data.AP, ax = ax[0,1])\n",
        "sns.boxplot(turbines_data.AH, ax = ax[1,0])\n",
        "sns.boxplot(turbines_data.AFDP, ax = ax[1,1])\n",
        "sns.boxplot(turbines_data.GTEP, ax = ax[2,0])\n",
        "sns.boxplot(turbines_data.TIT, ax = ax[2,1])\n",
        "sns.boxplot(turbines_data.TAT, ax = ax[3,0])\n",
        "sns.boxplot(turbines_data.TEY, ax = ax[3,1])\n",
        "sns.boxplot(turbines_data.CDP, ax = ax[4,0])\n",
        "sns.boxplot(turbines_data.CO, ax = ax[4,1])\n",
        "sns.boxplot(turbines_data.NOX, ax = ax[5,0])\n",
        "\n",
        "plt.tight_layout()\n",
        "plt.show()\n"
      ]
    },
    {
      "cell_type": "markdown",
      "metadata": {
        "id": "lDjvfGmjPsnn"
      },
      "source": [
        "4. Extrating the independent and dependent variables"
      ]
    },
    {
      "cell_type": "code",
      "execution_count": 49,
      "metadata": {
        "id": "X6aOnpwiPrT8"
      },
      "outputs": [],
      "source": [
        "turbines_data[\"TEy\"] = 1\n",
        "turbines_data.loc[turbines_data[\"TEY\"] > 135,\"TEy\"] = 2\n",
        "turbines_data.drop([\"TEY\"],axis = 1,inplace = True)"
      ]
    },
    {
      "cell_type": "code",
      "execution_count": 50,
      "metadata": {
        "id": "zHDfMARMPwEA",
        "colab": {
          "base_uri": "https://localhost:8080/"
        },
        "outputId": "0dc14e46-f579-42b0-c6b9-1282c41fb6e7"
      },
      "outputs": [
        {
          "output_type": "execute_result",
          "data": {
            "text/plain": [
              "array([[   6.8594, 1007.9   ,   96.799 , ...,   10.605 ,    3.1547,\n",
              "          82.722 ],\n",
              "       [   6.785 , 1008.4   ,   97.118 , ...,   10.598 ,    3.2363,\n",
              "          82.776 ],\n",
              "       [   6.8977, 1008.8   ,   95.939 , ...,   10.601 ,    3.2012,\n",
              "          82.468 ],\n",
              "       ...,\n",
              "       [   7.2647, 1006.3   ,   99.496 , ...,   10.483 ,    7.9632,\n",
              "          90.912 ],\n",
              "       [   7.006 , 1006.8   ,   99.008 , ...,   10.533 ,    6.2494,\n",
              "          93.227 ],\n",
              "       [   6.9279, 1007.2   ,   97.533 , ...,   10.583 ,    4.9816,\n",
              "          92.498 ]])"
            ]
          },
          "metadata": {},
          "execution_count": 50
        }
      ],
      "source": [
        "x = np.array(turbines_data.iloc[:,0:10])\n",
        "x"
      ]
    },
    {
      "cell_type": "code",
      "execution_count": 50,
      "metadata": {
        "id": "k1Oryle1P0Yp"
      },
      "outputs": [],
      "source": []
    },
    {
      "cell_type": "code",
      "execution_count": 51,
      "metadata": {
        "id": "JKwKZFrsPxje",
        "colab": {
          "base_uri": "https://localhost:8080/"
        },
        "outputId": "a70079e0-f9d9-48b6-d54a-84bf928124dd"
      },
      "outputs": [
        {
          "output_type": "execute_result",
          "data": {
            "text/plain": [
              "array([1, 1, 1, ..., 1, 1, 1])"
            ]
          },
          "metadata": {},
          "execution_count": 51
        }
      ],
      "source": [
        "y = np.array(turbines_data.iloc[:,10])\n",
        "y"
      ]
    },
    {
      "cell_type": "markdown",
      "metadata": {
        "id": "Xl7ASH4cP1cI"
      },
      "source": [
        "4.1 Normalizing data :\n"
      ]
    },
    {
      "cell_type": "code",
      "execution_count": 52,
      "metadata": {
        "id": "YmoetTdgPz8f"
      },
      "outputs": [],
      "source": [
        "from sklearn.model_selection import train_test_split\n"
      ]
    },
    {
      "cell_type": "code",
      "execution_count": 53,
      "metadata": {
        "id": "OFCSbNLBP5F_"
      },
      "outputs": [],
      "source": [
        "def norm_func(i):\n",
        "    x = (i-i.min())/(i.max()-i.min())\n",
        "    return (x)"
      ]
    },
    {
      "cell_type": "code",
      "execution_count": 54,
      "metadata": {
        "id": "rjAhCXLMP6pY"
      },
      "outputs": [],
      "source": [
        "x_norm = norm_func(x)\n"
      ]
    },
    {
      "cell_type": "markdown",
      "metadata": {
        "id": "LLgiDeSlP8w6"
      },
      "source": [
        "4.2 Data Splitting :\n"
      ]
    },
    {
      "cell_type": "code",
      "execution_count": 55,
      "metadata": {
        "id": "eFMHi6YAP739"
      },
      "outputs": [],
      "source": [
        "x_train,x_test,y_train,y_test = train_test_split(x_norm,y, test_size = 0.2)\n"
      ]
    },
    {
      "cell_type": "markdown",
      "metadata": {
        "id": "sOgdWL-XQA9b"
      },
      "source": [
        "4.3 Applying Neural Network :\n",
        "\n"
      ]
    },
    {
      "cell_type": "code",
      "execution_count": 56,
      "metadata": {
        "id": "BNxRqMq0QAEZ"
      },
      "outputs": [],
      "source": [
        "import keras.models\n",
        "import tensorflow\n",
        "from tensorflow.keras.models import Sequential\n",
        "from keras.layers import Dense"
      ]
    },
    {
      "cell_type": "code",
      "execution_count": 57,
      "metadata": {
        "id": "ZCOLB5h8P_Np"
      },
      "outputs": [],
      "source": [
        "model = Sequential()\n"
      ]
    },
    {
      "cell_type": "code",
      "execution_count": 58,
      "metadata": {
        "id": "JrwgS7ZXQGTH"
      },
      "outputs": [],
      "source": [
        "# fix random seed for reproducibility\n",
        "seed = 7\n",
        "np.random.seed(seed)"
      ]
    },
    {
      "cell_type": "code",
      "execution_count": 59,
      "metadata": {
        "id": "vgNndWqaQH44"
      },
      "outputs": [],
      "source": [
        "model.add(Dense(8, input_dim = 10, kernel_initializer = 'uniform', activation = 'relu'))\n",
        "model.add(Dense(4,  kernel_initializer = 'uniform', activation = 'relu'))\n",
        "model.add(Dense(1,  kernel_initializer = 'uniform', activation = 'linear'))"
      ]
    },
    {
      "cell_type": "code",
      "execution_count": 60,
      "metadata": {
        "id": "j1VWB7SCQOHL"
      },
      "outputs": [],
      "source": [
        "model.compile(loss = 'mse', optimizer = 'adam', metrics = ['accuracy'])\n"
      ]
    },
    {
      "cell_type": "code",
      "execution_count": null,
      "metadata": {
        "colab": {
          "base_uri": "https://localhost:8080/"
        },
        "id": "OBQLXuhGQQPF",
        "outputId": "0920ca56-cc0b-46ef-b6b0-8510dd764175"
      },
      "outputs": [
        {
          "output_type": "stream",
          "name": "stdout",
          "text": [
            "Epoch 1/50\n",
            "843/843 [==============================] - 3s 2ms/step - loss: 1.0968 - accuracy: 0.2330 - val_loss: 0.5572 - val_accuracy: 0.7039\n",
            "Epoch 2/50\n",
            "843/843 [==============================] - 2s 2ms/step - loss: 0.3549 - accuracy: 0.7032 - val_loss: 0.2419 - val_accuracy: 0.7039\n",
            "Epoch 3/50\n",
            "843/843 [==============================] - 2s 2ms/step - loss: 0.2188 - accuracy: 0.7032 - val_loss: 0.2093 - val_accuracy: 0.7039\n",
            "Epoch 4/50\n",
            "843/843 [==============================] - 2s 2ms/step - loss: 0.2090 - accuracy: 0.7032 - val_loss: 0.2084 - val_accuracy: 0.7039\n",
            "Epoch 5/50\n",
            "843/843 [==============================] - 2s 2ms/step - loss: 0.2087 - accuracy: 0.7032 - val_loss: 0.2085 - val_accuracy: 0.7039\n",
            "Epoch 6/50\n",
            "843/843 [==============================] - 2s 2ms/step - loss: 0.2088 - accuracy: 0.7032 - val_loss: 0.2085 - val_accuracy: 0.7039\n",
            "Epoch 7/50\n",
            "843/843 [==============================] - 2s 2ms/step - loss: 0.2088 - accuracy: 0.7032 - val_loss: 0.2085 - val_accuracy: 0.7039\n",
            "Epoch 8/50\n",
            "843/843 [==============================] - 2s 2ms/step - loss: 0.2088 - accuracy: 0.7032 - val_loss: 0.2084 - val_accuracy: 0.7039\n",
            "Epoch 9/50\n",
            "843/843 [==============================] - 2s 2ms/step - loss: 0.2088 - accuracy: 0.7032 - val_loss: 0.2084 - val_accuracy: 0.7039\n",
            "Epoch 10/50\n",
            "843/843 [==============================] - 2s 2ms/step - loss: 0.2088 - accuracy: 0.7032 - val_loss: 0.2084 - val_accuracy: 0.7039\n",
            "Epoch 11/50\n",
            "843/843 [==============================] - 2s 2ms/step - loss: 0.2088 - accuracy: 0.7032 - val_loss: 0.2084 - val_accuracy: 0.7039\n",
            "Epoch 12/50\n",
            "843/843 [==============================] - 2s 2ms/step - loss: 0.2088 - accuracy: 0.7032 - val_loss: 0.2085 - val_accuracy: 0.7039\n",
            "Epoch 13/50\n",
            "843/843 [==============================] - 2s 2ms/step - loss: 0.2088 - accuracy: 0.7032 - val_loss: 0.2085 - val_accuracy: 0.7039\n",
            "Epoch 14/50\n",
            "843/843 [==============================] - 2s 2ms/step - loss: 0.2088 - accuracy: 0.7032 - val_loss: 0.2085 - val_accuracy: 0.7039\n",
            "Epoch 15/50\n",
            "843/843 [==============================] - 2s 2ms/step - loss: 0.2088 - accuracy: 0.7032 - val_loss: 0.2084 - val_accuracy: 0.7039\n",
            "Epoch 16/50\n",
            "843/843 [==============================] - 2s 2ms/step - loss: 0.2088 - accuracy: 0.7032 - val_loss: 0.2085 - val_accuracy: 0.7039\n",
            "Epoch 17/50\n",
            "843/843 [==============================] - 2s 2ms/step - loss: 0.2088 - accuracy: 0.7032 - val_loss: 0.2084 - val_accuracy: 0.7039\n",
            "Epoch 18/50\n",
            "843/843 [==============================] - 2s 2ms/step - loss: 0.2088 - accuracy: 0.7032 - val_loss: 0.2084 - val_accuracy: 0.7039\n",
            "Epoch 19/50\n",
            "843/843 [==============================] - 2s 2ms/step - loss: 0.2088 - accuracy: 0.7032 - val_loss: 0.2084 - val_accuracy: 0.7039\n",
            "Epoch 20/50\n",
            "843/843 [==============================] - 2s 2ms/step - loss: 0.2087 - accuracy: 0.7032 - val_loss: 0.2087 - val_accuracy: 0.7039\n",
            "Epoch 21/50\n",
            "843/843 [==============================] - 2s 2ms/step - loss: 0.2088 - accuracy: 0.7032 - val_loss: 0.2084 - val_accuracy: 0.7039\n",
            "Epoch 22/50\n",
            "843/843 [==============================] - 2s 2ms/step - loss: 0.2088 - accuracy: 0.7032 - val_loss: 0.2084 - val_accuracy: 0.7039\n",
            "Epoch 23/50\n",
            "843/843 [==============================] - 2s 2ms/step - loss: 0.2088 - accuracy: 0.7032 - val_loss: 0.2084 - val_accuracy: 0.7039\n",
            "Epoch 24/50\n",
            "843/843 [==============================] - 2s 2ms/step - loss: 0.2088 - accuracy: 0.7032 - val_loss: 0.2085 - val_accuracy: 0.7039\n",
            "Epoch 25/50\n",
            "843/843 [==============================] - 2s 2ms/step - loss: 0.2088 - accuracy: 0.7032 - val_loss: 0.2085 - val_accuracy: 0.7039\n",
            "Epoch 26/50\n",
            "843/843 [==============================] - 2s 2ms/step - loss: 0.2088 - accuracy: 0.7032 - val_loss: 0.2085 - val_accuracy: 0.7039\n",
            "Epoch 27/50\n",
            "843/843 [==============================] - 2s 2ms/step - loss: 0.2088 - accuracy: 0.7032 - val_loss: 0.2085 - val_accuracy: 0.7039\n",
            "Epoch 28/50\n",
            "843/843 [==============================] - 2s 2ms/step - loss: 0.2088 - accuracy: 0.7032 - val_loss: 0.2084 - val_accuracy: 0.7039\n",
            "Epoch 29/50\n",
            "843/843 [==============================] - 3s 3ms/step - loss: 0.2088 - accuracy: 0.7032 - val_loss: 0.2084 - val_accuracy: 0.7039\n",
            "Epoch 30/50\n",
            "843/843 [==============================] - 2s 2ms/step - loss: 0.2088 - accuracy: 0.7032 - val_loss: 0.2085 - val_accuracy: 0.7039\n",
            "Epoch 31/50\n",
            "843/843 [==============================] - 2s 2ms/step - loss: 0.2087 - accuracy: 0.7032 - val_loss: 0.2085 - val_accuracy: 0.7039\n",
            "Epoch 32/50\n",
            "843/843 [==============================] - 2s 2ms/step - loss: 0.2088 - accuracy: 0.7032 - val_loss: 0.2084 - val_accuracy: 0.7039\n",
            "Epoch 33/50\n",
            "843/843 [==============================] - 2s 2ms/step - loss: 0.2088 - accuracy: 0.7032 - val_loss: 0.2084 - val_accuracy: 0.7039\n",
            "Epoch 34/50\n",
            "843/843 [==============================] - 2s 2ms/step - loss: 0.2087 - accuracy: 0.7032 - val_loss: 0.2085 - val_accuracy: 0.7039\n",
            "Epoch 35/50\n",
            "843/843 [==============================] - 2s 2ms/step - loss: 0.2088 - accuracy: 0.7032 - val_loss: 0.2084 - val_accuracy: 0.7039\n",
            "Epoch 36/50\n",
            "843/843 [==============================] - 2s 2ms/step - loss: 0.2088 - accuracy: 0.7032 - val_loss: 0.2084 - val_accuracy: 0.7039\n",
            "Epoch 37/50\n",
            "843/843 [==============================] - 2s 2ms/step - loss: 0.2088 - accuracy: 0.7032 - val_loss: 0.2085 - val_accuracy: 0.7039\n",
            "Epoch 38/50\n",
            "843/843 [==============================] - 2s 2ms/step - loss: 0.2088 - accuracy: 0.7032 - val_loss: 0.2086 - val_accuracy: 0.7039\n",
            "Epoch 39/50\n",
            "843/843 [==============================] - 2s 2ms/step - loss: 0.2088 - accuracy: 0.7032 - val_loss: 0.2084 - val_accuracy: 0.7039\n",
            "Epoch 40/50\n",
            "843/843 [==============================] - 2s 2ms/step - loss: 0.2087 - accuracy: 0.7032 - val_loss: 0.2087 - val_accuracy: 0.7039\n",
            "Epoch 41/50\n",
            "843/843 [==============================] - 2s 2ms/step - loss: 0.2088 - accuracy: 0.7032 - val_loss: 0.2085 - val_accuracy: 0.7039\n",
            "Epoch 42/50\n",
            "843/843 [==============================] - 2s 2ms/step - loss: 0.2088 - accuracy: 0.7032 - val_loss: 0.2085 - val_accuracy: 0.7039\n",
            "Epoch 43/50\n",
            "843/843 [==============================] - 2s 2ms/step - loss: 0.2088 - accuracy: 0.7032 - val_loss: 0.2084 - val_accuracy: 0.7039\n",
            "Epoch 44/50\n",
            "843/843 [==============================] - 2s 2ms/step - loss: 0.2088 - accuracy: 0.7032 - val_loss: 0.2085 - val_accuracy: 0.7039\n",
            "Epoch 45/50\n",
            "843/843 [==============================] - 2s 2ms/step - loss: 0.2088 - accuracy: 0.7032 - val_loss: 0.2085 - val_accuracy: 0.7039\n",
            "Epoch 46/50\n",
            "843/843 [==============================] - 2s 2ms/step - loss: 0.2088 - accuracy: 0.7032 - val_loss: 0.2085 - val_accuracy: 0.7039\n",
            "Epoch 47/50\n",
            "843/843 [==============================] - 2s 2ms/step - loss: 0.2088 - accuracy: 0.7032 - val_loss: 0.2084 - val_accuracy: 0.7039\n",
            "Epoch 48/50\n",
            "843/843 [==============================] - 2s 2ms/step - loss: 0.2088 - accuracy: 0.7032 - val_loss: 0.2084 - val_accuracy: 0.7039\n",
            "Epoch 49/50\n",
            "843/843 [==============================] - 2s 2ms/step - loss: 0.2088 - accuracy: 0.7032 - val_loss: 0.2084 - val_accuracy: 0.7039\n",
            "Epoch 50/50\n",
            "843/843 [==============================] - 2s 2ms/step - loss: 0.2088 - accuracy: 0.7032 - val_loss: 0.2085 - val_accuracy: 0.7039\n"
          ]
        },
        {
          "output_type": "execute_result",
          "data": {
            "text/plain": [
              "<keras.callbacks.History at 0x7f9f5ff9f940>"
            ]
          },
          "metadata": {},
          "execution_count": 24
        }
      ],
      "source": [
        "model.fit(x_train,y_train, validation_split = 0.3, epochs = 50, batch_size = 10)\n"
      ]
    },
    {
      "cell_type": "code",
      "execution_count": null,
      "metadata": {
        "colab": {
          "base_uri": "https://localhost:8080/"
        },
        "id": "qMw2YJ82QR5g",
        "outputId": "c4749bb3-b8a7-4fc5-e5cc-3411828d14e1"
      },
      "outputs": [
        {
          "name": "stdout",
          "output_type": "stream",
          "text": [
            "376/376 [==============================] - 1s 2ms/step - loss: 0.0603 - accuracy: 0.7040\n",
            "accuracy: 70.40%\n"
          ]
        }
      ],
      "source": [
        "scores = model.evaluate(x_train, y_train)\n",
        "print(\"%s: %.2f%%\" % (model.metrics_names[1], scores[1]*100))\n"
      ]
    },
    {
      "cell_type": "code",
      "execution_count": null,
      "metadata": {
        "colab": {
          "base_uri": "https://localhost:8080/"
        },
        "id": "DjzgzIEWQbu8",
        "outputId": "62e3b2a4-636e-4f4c-d7de-88abfbd63e25"
      },
      "outputs": [
        {
          "output_type": "stream",
          "name": "stdout",
          "text": [
            "94/94 [==============================] - 0s 1ms/step - loss: 0.2092 - accuracy: 0.7021\n",
            "accuracy: 70.21%\n"
          ]
        }
      ],
      "source": [
        "scores = model.evaluate(x_test, y_test)\n",
        "print(\"%s: %.2f%%\" % (model.metrics_names[1], scores[1]*100))\n"
      ]
    },
    {
      "cell_type": "markdown",
      "metadata": {
        "id": "H8Rb_CwkQiwn"
      },
      "source": [
        "4.4 Visualize training history :\n"
      ]
    },
    {
      "cell_type": "code",
      "execution_count": null,
      "metadata": {
        "colab": {
          "base_uri": "https://localhost:8080/"
        },
        "id": "sgaMdrXRQh3t",
        "outputId": "3bebaa49-3595-4511-9b6e-891303e568bd"
      },
      "outputs": [
        {
          "output_type": "stream",
          "name": "stdout",
          "text": [
            "Epoch 1/50\n",
            "843/843 [==============================] - 2s 2ms/step - loss: 0.2088 - accuracy: 0.7032 - val_loss: 0.2085 - val_accuracy: 0.7039\n",
            "Epoch 2/50\n",
            "843/843 [==============================] - 2s 2ms/step - loss: 0.2088 - accuracy: 0.7032 - val_loss: 0.2085 - val_accuracy: 0.7039\n",
            "Epoch 3/50\n",
            "843/843 [==============================] - 2s 2ms/step - loss: 0.2087 - accuracy: 0.7032 - val_loss: 0.2087 - val_accuracy: 0.7039\n",
            "Epoch 4/50\n",
            "843/843 [==============================] - 2s 2ms/step - loss: 0.2089 - accuracy: 0.7032 - val_loss: 0.2084 - val_accuracy: 0.7039\n",
            "Epoch 5/50\n",
            "843/843 [==============================] - 2s 2ms/step - loss: 0.2088 - accuracy: 0.7032 - val_loss: 0.2084 - val_accuracy: 0.7039\n",
            "Epoch 6/50\n",
            "843/843 [==============================] - 2s 2ms/step - loss: 0.2088 - accuracy: 0.7032 - val_loss: 0.2084 - val_accuracy: 0.7039\n",
            "Epoch 7/50\n",
            "843/843 [==============================] - 2s 2ms/step - loss: 0.2088 - accuracy: 0.7032 - val_loss: 0.2085 - val_accuracy: 0.7039\n",
            "Epoch 8/50\n",
            "843/843 [==============================] - 2s 2ms/step - loss: 0.2088 - accuracy: 0.7032 - val_loss: 0.2084 - val_accuracy: 0.7039\n",
            "Epoch 9/50\n",
            "843/843 [==============================] - 2s 2ms/step - loss: 0.2088 - accuracy: 0.7032 - val_loss: 0.2084 - val_accuracy: 0.7039\n",
            "Epoch 10/50\n",
            "843/843 [==============================] - 2s 2ms/step - loss: 0.2088 - accuracy: 0.7032 - val_loss: 0.2085 - val_accuracy: 0.7039\n",
            "Epoch 11/50\n",
            "843/843 [==============================] - 2s 2ms/step - loss: 0.2088 - accuracy: 0.7032 - val_loss: 0.2085 - val_accuracy: 0.7039\n",
            "Epoch 12/50\n",
            "843/843 [==============================] - 2s 2ms/step - loss: 0.2088 - accuracy: 0.7032 - val_loss: 0.2085 - val_accuracy: 0.7039\n",
            "Epoch 13/50\n",
            "843/843 [==============================] - 2s 2ms/step - loss: 0.2088 - accuracy: 0.7032 - val_loss: 0.2085 - val_accuracy: 0.7039\n",
            "Epoch 14/50\n",
            "843/843 [==============================] - 2s 2ms/step - loss: 0.2088 - accuracy: 0.7032 - val_loss: 0.2084 - val_accuracy: 0.7039\n",
            "Epoch 15/50\n",
            "843/843 [==============================] - 2s 2ms/step - loss: 0.2088 - accuracy: 0.7032 - val_loss: 0.2084 - val_accuracy: 0.7039\n",
            "Epoch 16/50\n",
            "843/843 [==============================] - 2s 2ms/step - loss: 0.2088 - accuracy: 0.7032 - val_loss: 0.2084 - val_accuracy: 0.7039\n",
            "Epoch 17/50\n",
            "843/843 [==============================] - 2s 2ms/step - loss: 0.2087 - accuracy: 0.7032 - val_loss: 0.2084 - val_accuracy: 0.7039\n",
            "Epoch 18/50\n",
            "843/843 [==============================] - 2s 2ms/step - loss: 0.2088 - accuracy: 0.7032 - val_loss: 0.2084 - val_accuracy: 0.7039\n",
            "Epoch 19/50\n",
            "843/843 [==============================] - 2s 2ms/step - loss: 0.2088 - accuracy: 0.7032 - val_loss: 0.2085 - val_accuracy: 0.7039\n",
            "Epoch 20/50\n",
            "843/843 [==============================] - 2s 2ms/step - loss: 0.2088 - accuracy: 0.7032 - val_loss: 0.2086 - val_accuracy: 0.7039\n",
            "Epoch 21/50\n",
            "843/843 [==============================] - 2s 2ms/step - loss: 0.2088 - accuracy: 0.7032 - val_loss: 0.2084 - val_accuracy: 0.7039\n",
            "Epoch 22/50\n",
            "843/843 [==============================] - 2s 2ms/step - loss: 0.2088 - accuracy: 0.7032 - val_loss: 0.2084 - val_accuracy: 0.7039\n",
            "Epoch 23/50\n",
            "843/843 [==============================] - 2s 2ms/step - loss: 0.2088 - accuracy: 0.7032 - val_loss: 0.2084 - val_accuracy: 0.7039\n",
            "Epoch 24/50\n",
            "843/843 [==============================] - 2s 2ms/step - loss: 0.2088 - accuracy: 0.7032 - val_loss: 0.2085 - val_accuracy: 0.7039\n",
            "Epoch 25/50\n",
            "843/843 [==============================] - 2s 2ms/step - loss: 0.2088 - accuracy: 0.7032 - val_loss: 0.2084 - val_accuracy: 0.7039\n",
            "Epoch 26/50\n",
            "843/843 [==============================] - 2s 2ms/step - loss: 0.2088 - accuracy: 0.7032 - val_loss: 0.2084 - val_accuracy: 0.7039\n",
            "Epoch 27/50\n",
            "843/843 [==============================] - 2s 2ms/step - loss: 0.2088 - accuracy: 0.7032 - val_loss: 0.2084 - val_accuracy: 0.7039\n",
            "Epoch 28/50\n",
            "843/843 [==============================] - 2s 2ms/step - loss: 0.2088 - accuracy: 0.7032 - val_loss: 0.2086 - val_accuracy: 0.7039\n",
            "Epoch 29/50\n",
            "843/843 [==============================] - 2s 2ms/step - loss: 0.2087 - accuracy: 0.7032 - val_loss: 0.2086 - val_accuracy: 0.7039\n",
            "Epoch 30/50\n",
            "843/843 [==============================] - 2s 3ms/step - loss: 0.2088 - accuracy: 0.7032 - val_loss: 0.2084 - val_accuracy: 0.7039\n",
            "Epoch 31/50\n",
            "843/843 [==============================] - 4s 4ms/step - loss: 0.2088 - accuracy: 0.7032 - val_loss: 0.2085 - val_accuracy: 0.7039\n",
            "Epoch 32/50\n",
            "843/843 [==============================] - 2s 3ms/step - loss: 0.2088 - accuracy: 0.7032 - val_loss: 0.2084 - val_accuracy: 0.7039\n",
            "Epoch 33/50\n",
            "843/843 [==============================] - 2s 2ms/step - loss: 0.2088 - accuracy: 0.7032 - val_loss: 0.2086 - val_accuracy: 0.7039\n",
            "Epoch 34/50\n",
            "843/843 [==============================] - 2s 2ms/step - loss: 0.2088 - accuracy: 0.7032 - val_loss: 0.2084 - val_accuracy: 0.7039\n",
            "Epoch 35/50\n",
            "843/843 [==============================] - 2s 2ms/step - loss: 0.2088 - accuracy: 0.7032 - val_loss: 0.2084 - val_accuracy: 0.7039\n",
            "Epoch 36/50\n",
            "843/843 [==============================] - 2s 2ms/step - loss: 0.2088 - accuracy: 0.7032 - val_loss: 0.2084 - val_accuracy: 0.7039\n",
            "Epoch 37/50\n",
            "843/843 [==============================] - 2s 2ms/step - loss: 0.2088 - accuracy: 0.7032 - val_loss: 0.2086 - val_accuracy: 0.7039\n",
            "Epoch 38/50\n",
            "843/843 [==============================] - 2s 2ms/step - loss: 0.2088 - accuracy: 0.7032 - val_loss: 0.2084 - val_accuracy: 0.7039\n",
            "Epoch 39/50\n",
            "843/843 [==============================] - 2s 2ms/step - loss: 0.2088 - accuracy: 0.7032 - val_loss: 0.2085 - val_accuracy: 0.7039\n",
            "Epoch 40/50\n",
            "843/843 [==============================] - 2s 2ms/step - loss: 0.2088 - accuracy: 0.7032 - val_loss: 0.2084 - val_accuracy: 0.7039\n",
            "Epoch 41/50\n",
            "843/843 [==============================] - 2s 2ms/step - loss: 0.2087 - accuracy: 0.7032 - val_loss: 0.2087 - val_accuracy: 0.7039\n",
            "Epoch 42/50\n",
            "843/843 [==============================] - 2s 2ms/step - loss: 0.2088 - accuracy: 0.7032 - val_loss: 0.2085 - val_accuracy: 0.7039\n",
            "Epoch 43/50\n",
            "843/843 [==============================] - 2s 2ms/step - loss: 0.2087 - accuracy: 0.7032 - val_loss: 0.2085 - val_accuracy: 0.7039\n",
            "Epoch 44/50\n",
            "843/843 [==============================] - 2s 2ms/step - loss: 0.2088 - accuracy: 0.7032 - val_loss: 0.2084 - val_accuracy: 0.7039\n",
            "Epoch 45/50\n",
            "843/843 [==============================] - 2s 2ms/step - loss: 0.2088 - accuracy: 0.7032 - val_loss: 0.2085 - val_accuracy: 0.7039\n",
            "Epoch 46/50\n",
            "843/843 [==============================] - 2s 2ms/step - loss: 0.2088 - accuracy: 0.7032 - val_loss: 0.2086 - val_accuracy: 0.7039\n",
            "Epoch 47/50\n",
            "843/843 [==============================] - 2s 2ms/step - loss: 0.2087 - accuracy: 0.7032 - val_loss: 0.2086 - val_accuracy: 0.7039\n",
            "Epoch 48/50\n",
            "843/843 [==============================] - 2s 2ms/step - loss: 0.2089 - accuracy: 0.7032 - val_loss: 0.2084 - val_accuracy: 0.7039\n",
            "Epoch 49/50\n",
            "843/843 [==============================] - 2s 2ms/step - loss: 0.2087 - accuracy: 0.7032 - val_loss: 0.2085 - val_accuracy: 0.7039\n",
            "Epoch 50/50\n",
            "843/843 [==============================] - 2s 2ms/step - loss: 0.2088 - accuracy: 0.7032 - val_loss: 0.2084 - val_accuracy: 0.7039\n"
          ]
        }
      ],
      "source": [
        "history = model.fit(x_train,y_train, validation_split = 0.3, epochs = 50, batch_size = 10)\n"
      ]
    },
    {
      "cell_type": "code",
      "execution_count": null,
      "metadata": {
        "colab": {
          "base_uri": "https://localhost:8080/"
        },
        "id": "8lkPjVh0Qm5L",
        "outputId": "944bace7-e786-4e24-ae09-40862cf48ddd"
      },
      "outputs": [
        {
          "output_type": "execute_result",
          "data": {
            "text/plain": [
              "dict_keys(['loss', 'accuracy', 'val_loss', 'val_accuracy'])"
            ]
          },
          "metadata": {},
          "execution_count": 27
        }
      ],
      "source": [
        "# list all data in history\n",
        "model.history.history.keys()"
      ]
    },
    {
      "cell_type": "markdown",
      "metadata": {
        "id": "mR0KelY3Qr2v"
      },
      "source": [
        "4.5 summarize history for accuracy and Loss :"
      ]
    },
    {
      "cell_type": "code",
      "execution_count": null,
      "metadata": {
        "colab": {
          "base_uri": "https://localhost:8080/",
          "height": 295
        },
        "id": "0n2GSo8PQu6n",
        "outputId": "ba5ea95b-b800-4399-96cb-4f271d4282f7"
      },
      "outputs": [
        {
          "output_type": "display_data",
          "data": {
            "text/plain": [
              "<Figure size 432x288 with 1 Axes>"
            ],
            "image/png": "[encoded data removed]"
          },
          "metadata": {
            "needs_background": "light"
          }
        }
      ],
      "source": [
        "plt.plot(history.history['accuracy'])\n",
        "plt.plot(history.history['val_accuracy'])\n",
        "plt.title('model accuracy')\n",
        "plt.ylabel('accuracy')\n",
        "plt.xlabel('epoch')\n",
        "plt.legend(['train','test'], loc = 'upper left')\n",
        "plt.show()"
      ]
    },
    {
      "cell_type": "code",
      "execution_count": null,
      "metadata": {
        "colab": {
          "base_uri": "https://localhost:8080/",
          "height": 295
        },
        "id": "_u5w_UuTQwoA",
        "outputId": "0ccc2c20-10c8-41ef-ea75-4243e94e75f2"
      },
      "outputs": [
        {
          "output_type": "display_data",
          "data": {
            "text/plain": [
              "<Figure size 432x288 with 1 Axes>"
            ],
            "image/png": "[encoded data removed]"
          },
          "metadata": {
            "needs_background": "light"
          }
        }
      ],
      "source": [
        "plt.plot(history.history['loss'])\n",
        "plt.plot(history.history['val_loss'])\n",
        "plt.title('model loss')\n",
        "plt.ylabel('loss')\n",
        "plt.xlabel('epoch')\n",
        "plt.legend(['train','test'], loc = 'upper left')\n",
        "plt.show()"
      ]
    },
    {
      "cell_type": "markdown",
      "metadata": {
        "id": "iROBi53eQzx0"
      },
      "source": [
        "5. Tuning of Hyperparameter : Batch Size and Epochs"
      ]
    },
    {
      "cell_type": "code",
      "execution_count": null,
      "metadata": {
        "id": "hZxqmZa-Qy11"
      },
      "outputs": [],
      "source": [
        "from sklearn.model_selection import GridSearchCV, KFold\n",
        "from keras.wrappers.scikit_learn import KerasClassifier\n",
        "from keras.optimizers import Adam\n",
        "from tensorflow.keras.models import load_model"
      ]
    },
    {
      "cell_type": "code",
      "execution_count": null,
      "metadata": {
        "id": "6c9sn6vGQ7Rw"
      },
      "outputs": [],
      "source": [
        "def create_model():\n",
        "    model = Sequential()\n",
        "    model.add(Dense(12, input_dim = 10, kernel_initializer = 'uniform', activation = 'relu'))\n",
        "    model.add(Dense(8,  kernel_initializer = 'uniform', activation = 'relu'))\n",
        "    model.add(Dense(1,  kernel_initializer = 'uniform', activation = 'linear'))\n",
        "    \n",
        "    adam = Adam(lr = 0.01)\n",
        "    model.compile(loss = 'mse', optimizer = adam, metrics = ['accuracy'])\n",
        "    return model"
      ]
    },
    {
      "cell_type": "markdown",
      "metadata": {
        "id": "YyQGF7hRRBwU"
      },
      "source": [
        "5.1 Create the model :\n"
      ]
    },
    {
      "cell_type": "code",
      "execution_count": null,
      "metadata": {
        "id": "p3m8sWTZRIvf"
      },
      "outputs": [],
      "source": [
        "model_1 = KerasClassifier(build_fn = create_model,verbose = 0)\n"
      ]
    },
    {
      "cell_type": "markdown",
      "metadata": {
        "id": "CLUrdsSlRLAC"
      },
      "source": [
        "5.2 Define the grid search parameters :\n"
      ]
    },
    {
      "cell_type": "code",
      "execution_count": null,
      "metadata": {
        "id": "r3U9sGGJRKXH"
      },
      "outputs": [],
      "source": [
        "batch_size = [10,20,40]\n",
        "epochs = [10,50,100]"
      ]
    },
    {
      "cell_type": "markdown",
      "metadata": {
        "id": "bKDFctlnROsc"
      },
      "source": [
        "5.3 Make a dictionary of the grid search parameters"
      ]
    },
    {
      "cell_type": "code",
      "execution_count": null,
      "metadata": {
        "id": "NhlpiwYQRQ9w"
      },
      "outputs": [],
      "source": [
        "param_grid = dict(batch_size = batch_size,epochs = epochs)\n"
      ]
    },
    {
      "cell_type": "markdown",
      "metadata": {
        "id": "THfmN6ahRTUt"
      },
      "source": [
        "5.4 Build and fit the GridSearchCV :\n"
      ]
    },
    {
      "cell_type": "code",
      "execution_count": 38,
      "metadata": {
        "colab": {
          "base_uri": "https://localhost:8080/"
        },
        "id": "SJelPgKcRVZH",
        "outputId": "223becc6-3086-4fee-ebf1-5cdf251e9d12"
      },
      "outputs": [
        {
          "output_type": "stream",
          "name": "stdout",
          "text": [
            "Fitting 5 folds for each of 9 candidates, totalling 45 fits\n",
            "[CV 1/5; 1/9] START batch_size=10, epochs=10....................................\n",
            "[CV 1/5; 1/9] END .....batch_size=10, epochs=10;, score=0.692 total time=  21.4s\n",
            "[CV 2/5; 1/9] START batch_size=10, epochs=10....................................\n",
            "[CV 2/5; 1/9] END .....batch_size=10, epochs=10;, score=0.694 total time=  21.4s\n",
            "[CV 3/5; 1/9] START batch_size=10, epochs=10....................................\n",
            "[CV 3/5; 1/9] END .....batch_size=10, epochs=10;, score=0.720 total time=  12.0s\n",
            "[CV 4/5; 1/9] START batch_size=10, epochs=10....................................\n",
            "[CV 4/5; 1/9] END .....batch_size=10, epochs=10;, score=0.700 total time=  11.9s\n",
            "[CV 5/5; 1/9] START batch_size=10, epochs=10....................................\n",
            "[CV 5/5; 1/9] END .....batch_size=10, epochs=10;, score=0.711 total time=  12.4s\n",
            "[CV 1/5; 2/9] START batch_size=10, epochs=50....................................\n",
            "[CV 1/5; 2/9] END .....batch_size=10, epochs=50;, score=0.692 total time=  57.7s\n",
            "[CV 2/5; 2/9] START batch_size=10, epochs=50....................................\n",
            "[CV 2/5; 2/9] END .....batch_size=10, epochs=50;, score=0.694 total time=  56.6s\n",
            "[CV 3/5; 2/9] START batch_size=10, epochs=50....................................\n",
            "[CV 3/5; 2/9] END .....batch_size=10, epochs=50;, score=0.720 total time= 1.4min\n",
            "[CV 4/5; 2/9] START batch_size=10, epochs=50....................................\n",
            "[CV 4/5; 2/9] END .....batch_size=10, epochs=50;, score=0.700 total time= 1.4min\n",
            "[CV 5/5; 2/9] START batch_size=10, epochs=50....................................\n",
            "[CV 5/5; 2/9] END .....batch_size=10, epochs=50;, score=0.711 total time=  56.3s\n",
            "[CV 1/5; 3/9] START batch_size=10, epochs=100...................................\n",
            "[CV 1/5; 3/9] END ....batch_size=10, epochs=100;, score=0.958 total time= 1.9min\n",
            "[CV 2/5; 3/9] START batch_size=10, epochs=100...................................\n",
            "[CV 2/5; 3/9] END ....batch_size=10, epochs=100;, score=0.694 total time= 1.9min\n",
            "[CV 3/5; 3/9] START batch_size=10, epochs=100...................................\n",
            "[CV 3/5; 3/9] END ....batch_size=10, epochs=100;, score=0.720 total time= 1.9min\n",
            "[CV 4/5; 3/9] START batch_size=10, epochs=100...................................\n",
            "[CV 4/5; 3/9] END ....batch_size=10, epochs=100;, score=0.700 total time= 2.4min\n",
            "[CV 5/5; 3/9] START batch_size=10, epochs=100...................................\n",
            "[CV 5/5; 3/9] END ....batch_size=10, epochs=100;, score=0.711 total time= 1.9min\n",
            "[CV 1/5; 4/9] START batch_size=20, epochs=10....................................\n",
            "[CV 1/5; 4/9] END .....batch_size=20, epochs=10;, score=0.928 total time=  11.0s\n",
            "[CV 2/5; 4/9] START batch_size=20, epochs=10....................................\n",
            "[CV 2/5; 4/9] END .....batch_size=20, epochs=10;, score=0.928 total time=  11.0s\n",
            "[CV 3/5; 4/9] START batch_size=20, epochs=10....................................\n",
            "[CV 3/5; 4/9] END .....batch_size=20, epochs=10;, score=0.720 total time=   6.4s\n",
            "[CV 4/5; 4/9] START batch_size=20, epochs=10....................................\n",
            "[CV 4/5; 4/9] END .....batch_size=20, epochs=10;, score=0.700 total time=  11.0s\n",
            "[CV 5/5; 4/9] START batch_size=20, epochs=10....................................\n",
            "[CV 5/5; 4/9] END .....batch_size=20, epochs=10;, score=0.945 total time=  11.0s\n",
            "[CV 1/5; 5/9] START batch_size=20, epochs=50....................................\n",
            "[CV 1/5; 5/9] END .....batch_size=20, epochs=50;, score=0.951 total time=  42.1s\n",
            "[CV 2/5; 5/9] START batch_size=20, epochs=50....................................\n",
            "[CV 2/5; 5/9] END .....batch_size=20, epochs=50;, score=0.911 total time=  41.7s\n",
            "[CV 3/5; 5/9] START batch_size=20, epochs=50....................................\n",
            "[CV 3/5; 5/9] END .....batch_size=20, epochs=50;, score=0.962 total time=  29.1s\n",
            "[CV 4/5; 5/9] START batch_size=20, epochs=50....................................\n",
            "[CV 4/5; 5/9] END .....batch_size=20, epochs=50;, score=0.914 total time=  41.8s\n",
            "[CV 5/5; 5/9] START batch_size=20, epochs=50....................................\n",
            "[CV 5/5; 5/9] END .....batch_size=20, epochs=50;, score=0.940 total time=  29.0s\n",
            "[CV 1/5; 6/9] START batch_size=20, epochs=100...................................\n",
            "[CV 1/5; 6/9] END ....batch_size=20, epochs=100;, score=0.933 total time=  56.7s\n",
            "[CV 2/5; 6/9] START batch_size=20, epochs=100...................................\n",
            "[CV 2/5; 6/9] END ....batch_size=20, epochs=100;, score=0.948 total time=  56.8s\n",
            "[CV 3/5; 6/9] START batch_size=20, epochs=100...................................\n",
            "[CV 3/5; 6/9] END ....batch_size=20, epochs=100;, score=0.964 total time= 1.4min\n",
            "[CV 4/5; 6/9] START batch_size=20, epochs=100...................................\n",
            "[CV 4/5; 6/9] END ....batch_size=20, epochs=100;, score=0.958 total time= 1.4min\n",
            "[CV 5/5; 6/9] START batch_size=20, epochs=100...................................\n",
            "[CV 5/5; 6/9] END ....batch_size=20, epochs=100;, score=0.935 total time= 1.4min\n",
            "[CV 1/5; 7/9] START batch_size=40, epochs=10....................................\n",
            "[CV 1/5; 7/9] END .....batch_size=40, epochs=10;, score=0.949 total time=   5.9s\n",
            "[CV 2/5; 7/9] START batch_size=40, epochs=10....................................\n",
            "[CV 2/5; 7/9] END .....batch_size=40, epochs=10;, score=0.919 total time=   5.8s\n",
            "[CV 3/5; 7/9] START batch_size=40, epochs=10....................................\n",
            "[CV 3/5; 7/9] END .....batch_size=40, epochs=10;, score=0.948 total time=   5.8s\n",
            "[CV 4/5; 7/9] START batch_size=40, epochs=10....................................\n",
            "[CV 4/5; 7/9] END .....batch_size=40, epochs=10;, score=0.950 total time=   5.8s\n",
            "[CV 5/5; 7/9] START batch_size=40, epochs=10....................................\n",
            "[CV 5/5; 7/9] END .....batch_size=40, epochs=10;, score=0.939 total time=   5.9s\n",
            "[CV 1/5; 8/9] START batch_size=40, epochs=50....................................\n",
            "[CV 1/5; 8/9] END .....batch_size=40, epochs=50;, score=0.937 total time=  21.1s\n",
            "[CV 2/5; 8/9] START batch_size=40, epochs=50....................................\n",
            "[CV 2/5; 8/9] END .....batch_size=40, epochs=50;, score=0.938 total time=  15.2s\n",
            "[CV 3/5; 8/9] START batch_size=40, epochs=50....................................\n",
            "[CV 3/5; 8/9] END .....batch_size=40, epochs=50;, score=0.929 total time=  21.2s\n",
            "[CV 4/5; 8/9] START batch_size=40, epochs=50....................................\n",
            "[CV 4/5; 8/9] END .....batch_size=40, epochs=50;, score=0.936 total time=  21.2s\n",
            "[CV 5/5; 8/9] START batch_size=40, epochs=50....................................\n",
            "[CV 5/5; 8/9] END .....batch_size=40, epochs=50;, score=0.940 total time=  15.0s\n",
            "[CV 1/5; 9/9] START batch_size=40, epochs=100...................................\n",
            "[CV 1/5; 9/9] END ....batch_size=40, epochs=100;, score=0.936 total time=  41.7s\n",
            "[CV 2/5; 9/9] START batch_size=40, epochs=100...................................\n",
            "[CV 2/5; 9/9] END ....batch_size=40, epochs=100;, score=0.939 total time=  28.7s\n",
            "[CV 3/5; 9/9] START batch_size=40, epochs=100...................................\n",
            "[CV 3/5; 9/9] END ....batch_size=40, epochs=100;, score=0.949 total time=  28.2s\n",
            "[CV 4/5; 9/9] START batch_size=40, epochs=100...................................\n",
            "[CV 4/5; 9/9] END ....batch_size=40, epochs=100;, score=0.943 total time=  41.6s\n",
            "[CV 5/5; 9/9] START batch_size=40, epochs=100...................................\n",
            "[CV 5/5; 9/9] END ....batch_size=40, epochs=100;, score=0.968 total time=  41.6s\n"
          ]
        }
      ],
      "source": [
        "grid = GridSearchCV(estimator = model_1, param_grid = param_grid,cv = KFold(),verbose = 10)\n",
        "grid_result = grid.fit(x_train,y_train)\n"
      ]
    },
    {
      "cell_type": "markdown",
      "metadata": {
        "id": "1YVizqf_RaZM"
      },
      "source": [
        "**Conclusion :**\n",
        "\n",
        " For Train Model we got 70.40% Accuracy\n",
        "\n",
        " For Test Model we got 70.21% Accuracy"
      ]
    },
    {
      "cell_type": "code",
      "execution_count": null,
      "metadata": {
        "id": "iGB9d5rpRfM4"
      },
      "outputs": [],
      "source": []
    }
  ],
  "metadata": {
    "colab": {
      "provenance": [],
      "authorship_tag": "ABX9TyMCuEDTFoLnYR5d7Y+2UcDB",
      "include_colab_link": true
    },
    "kernelspec": {
      "display_name": "Python 3",
      "name": "python3"
    },
    "language_info": {
      "name": "python"
    }
  },
  "nbformat": 4,
  "nbformat_minor": 0
}